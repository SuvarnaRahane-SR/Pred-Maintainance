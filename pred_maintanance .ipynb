{
 "cells": [
  {
   "cell_type": "markdown",
   "id": "65f65b25",
   "metadata": {},
   "source": [
    "Kaggle link:https://www.kaggle.com/datasets/shivamb/machine-predictive-maintenance-classification"
   ]
  },
  {
   "cell_type": "code",
   "execution_count": 1,
   "id": "ba50f8d1",
   "metadata": {},
   "outputs": [],
   "source": [
    "import numpy as np\n",
    "import pandas as pd\n",
    "import matplotlib.pyplot as plt\n",
    "import seaborn as sns\n",
    "import warnings\n",
    "warnings.filterwarnings('ignore')"
   ]
  },
  {
   "cell_type": "markdown",
   "id": "4a869870",
   "metadata": {},
   "source": [
    "### Data Set Information:\n",
    "\n",
    "Since real predictive maintenance datasets are generally difficult to obtain and in particular difficult to publish, we present and provide a synthetic dataset that reflects real predictive maintenance encountered in industry to the best of our knowledge.\n",
    "\n"
   ]
  },
  {
   "cell_type": "markdown",
   "id": "b5dfca47",
   "metadata": {},
   "source": [
    "### Attribute Information:\n",
    "\n",
    "The dataset consists of 10 000 data points stored as rows with 14 features in columns\n",
    "\n",
    " 1. UID: unique identifier ranging from 1 to 10000\n",
    "\n",
    " 2. product ID: consisting of a letter \n",
    "\n",
    " 3. L, M, or H for low (50% of all products), medium (30%) and high (20%) as product quality\n",
    "    variants and a variant-specific serial number\n",
    "\n",
    " 4. air temperature [K]: generated using a random walk process later normalized to a standard deviation of 2 K around 300 K\n",
    "\n",
    " 5. process temperature [K]: generated using a random walk process normalized to a standard deviation of 1 K, added to the air temperature plus 10 K.\n",
    "\n",
    " 6. rotational speed [rpm]: calculated from a power of 2860 W, overlaid with a normally distributed noise\n",
    "\n",
    " 7. torque [Nm]: torque values are normally distributed around 40 Nm with a Ïƒ = 10 Nm and no negative values.\n",
    "\n",
    " 8. tool wear [min]: The quality variants H/M/L add 5/3/2 minutes of tool wear to the used tool in the process. \n",
    "\n",
    "    'machine failure' label that indicates, whether the machine has failed in this particular datapoint for any of the   following failure modes are true.\n",
    "\n",
    " 9. The machine failure consists of five independent failure modes\n",
    "\n",
    " 10. tool wear failure (TWF): the tool will be replaced of fail at a randomly selected tool wear time between 200 â€“ 240 mins\n",
    "\n",
    "     (120 times in our dataset). At this point in time, the tool is replaced 69 times, and fails 51 times (randomly assigned).\n",
    "\n",
    " 11. heat dissipation failure (HDF): heat dissipation causes a process failure, if the difference between air- and process \n",
    "\n",
    "     temperature is below 8.6 K and the toolâ€™s rotational speed is below 1380 rpm. This is the case for 115 data points.\n",
    "\n",
    "  12. power failure (PWF): the product of torque and rotational speed (in rad/s) equals the power required for the process. If \n",
    "  \n",
    "     this power is below 3500 W or above 9000 W, the process fails, which is the case 95 times in our dataset.\n",
    "    \n",
    "    \n",
    "  13. overstrain failure (OSF): if the product of tool wear and torque exceeds 11,000 minNm for the L product variant (12,000 \n",
    "      M,13,000 H), the process fails due to overstrain. This is true for 98 datapoints.\n",
    "    \n",
    "\n",
    "  14. random failures (RNF): each process has a chance of 0,1 % to fail regardless of its process parameters. This is the case\n",
    "\n",
    "      for only 5 datapoints, less than could be expected for 10,000 datapoints in our dataset.\n",
    "\n",
    "      If at least one of the above failure modes is true, the process fails and the 'machine failure' label is set to 1. It is \n",
    "\n",
    "      therefore not transparent to the machine learning method, which of the failure modes has caused the process to fail\n",
    "\n"
   ]
  },
  {
   "cell_type": "code",
   "execution_count": 2,
   "id": "8e6b042a",
   "metadata": {},
   "outputs": [
    {
     "data": {
      "text/html": [
       "<div>\n",
       "<style scoped>\n",
       "    .dataframe tbody tr th:only-of-type {\n",
       "        vertical-align: middle;\n",
       "    }\n",
       "\n",
       "    .dataframe tbody tr th {\n",
       "        vertical-align: top;\n",
       "    }\n",
       "\n",
       "    .dataframe thead th {\n",
       "        text-align: right;\n",
       "    }\n",
       "</style>\n",
       "<table border=\"1\" class=\"dataframe\">\n",
       "  <thead>\n",
       "    <tr style=\"text-align: right;\">\n",
       "      <th></th>\n",
       "      <th>UDI</th>\n",
       "      <th>Product ID</th>\n",
       "      <th>Type</th>\n",
       "      <th>Air temperature [K]</th>\n",
       "      <th>Process temperature [K]</th>\n",
       "      <th>Rotational speed [rpm]</th>\n",
       "      <th>Torque [Nm]</th>\n",
       "      <th>Tool wear [min]</th>\n",
       "      <th>Machine failure</th>\n",
       "      <th>TWF</th>\n",
       "      <th>HDF</th>\n",
       "      <th>PWF</th>\n",
       "      <th>OSF</th>\n",
       "      <th>RNF</th>\n",
       "    </tr>\n",
       "  </thead>\n",
       "  <tbody>\n",
       "    <tr>\n",
       "      <th>0</th>\n",
       "      <td>1</td>\n",
       "      <td>M14860</td>\n",
       "      <td>M</td>\n",
       "      <td>298.1</td>\n",
       "      <td>308.6</td>\n",
       "      <td>1551</td>\n",
       "      <td>42.8</td>\n",
       "      <td>0</td>\n",
       "      <td>0</td>\n",
       "      <td>0</td>\n",
       "      <td>0</td>\n",
       "      <td>0</td>\n",
       "      <td>0</td>\n",
       "      <td>0</td>\n",
       "    </tr>\n",
       "    <tr>\n",
       "      <th>1</th>\n",
       "      <td>2</td>\n",
       "      <td>L47181</td>\n",
       "      <td>L</td>\n",
       "      <td>298.2</td>\n",
       "      <td>308.7</td>\n",
       "      <td>1408</td>\n",
       "      <td>46.3</td>\n",
       "      <td>3</td>\n",
       "      <td>0</td>\n",
       "      <td>0</td>\n",
       "      <td>0</td>\n",
       "      <td>0</td>\n",
       "      <td>0</td>\n",
       "      <td>0</td>\n",
       "    </tr>\n",
       "    <tr>\n",
       "      <th>2</th>\n",
       "      <td>3</td>\n",
       "      <td>L47182</td>\n",
       "      <td>L</td>\n",
       "      <td>298.1</td>\n",
       "      <td>308.5</td>\n",
       "      <td>1498</td>\n",
       "      <td>49.4</td>\n",
       "      <td>5</td>\n",
       "      <td>0</td>\n",
       "      <td>0</td>\n",
       "      <td>0</td>\n",
       "      <td>0</td>\n",
       "      <td>0</td>\n",
       "      <td>0</td>\n",
       "    </tr>\n",
       "    <tr>\n",
       "      <th>3</th>\n",
       "      <td>4</td>\n",
       "      <td>L47183</td>\n",
       "      <td>L</td>\n",
       "      <td>298.2</td>\n",
       "      <td>308.6</td>\n",
       "      <td>1433</td>\n",
       "      <td>39.5</td>\n",
       "      <td>7</td>\n",
       "      <td>0</td>\n",
       "      <td>0</td>\n",
       "      <td>0</td>\n",
       "      <td>0</td>\n",
       "      <td>0</td>\n",
       "      <td>0</td>\n",
       "    </tr>\n",
       "    <tr>\n",
       "      <th>4</th>\n",
       "      <td>5</td>\n",
       "      <td>L47184</td>\n",
       "      <td>L</td>\n",
       "      <td>298.2</td>\n",
       "      <td>308.7</td>\n",
       "      <td>1408</td>\n",
       "      <td>40.0</td>\n",
       "      <td>9</td>\n",
       "      <td>0</td>\n",
       "      <td>0</td>\n",
       "      <td>0</td>\n",
       "      <td>0</td>\n",
       "      <td>0</td>\n",
       "      <td>0</td>\n",
       "    </tr>\n",
       "  </tbody>\n",
       "</table>\n",
       "</div>"
      ],
      "text/plain": [
       "   UDI Product ID Type  Air temperature [K]  Process temperature [K]  \\\n",
       "0    1     M14860    M                298.1                    308.6   \n",
       "1    2     L47181    L                298.2                    308.7   \n",
       "2    3     L47182    L                298.1                    308.5   \n",
       "3    4     L47183    L                298.2                    308.6   \n",
       "4    5     L47184    L                298.2                    308.7   \n",
       "\n",
       "   Rotational speed [rpm]  Torque [Nm]  Tool wear [min]  Machine failure  TWF  \\\n",
       "0                    1551         42.8                0                0    0   \n",
       "1                    1408         46.3                3                0    0   \n",
       "2                    1498         49.4                5                0    0   \n",
       "3                    1433         39.5                7                0    0   \n",
       "4                    1408         40.0                9                0    0   \n",
       "\n",
       "   HDF  PWF  OSF  RNF  \n",
       "0    0    0    0    0  \n",
       "1    0    0    0    0  \n",
       "2    0    0    0    0  \n",
       "3    0    0    0    0  \n",
       "4    0    0    0    0  "
      ]
     },
     "execution_count": 2,
     "metadata": {},
     "output_type": "execute_result"
    }
   ],
   "source": [
    "df=pd.read_csv('pred maintenance dataset.csv')\n",
    "df.head()"
   ]
  },
  {
   "cell_type": "code",
   "execution_count": 3,
   "id": "c11dadc6",
   "metadata": {},
   "outputs": [
    {
     "data": {
      "text/plain": [
       "(10000, 14)"
      ]
     },
     "execution_count": 3,
     "metadata": {},
     "output_type": "execute_result"
    }
   ],
   "source": [
    "df.shape"
   ]
  },
  {
   "cell_type": "code",
   "execution_count": 4,
   "id": "6cdf990e",
   "metadata": {},
   "outputs": [
    {
     "data": {
      "text/plain": [
       "UDI                        0\n",
       "Product ID                 0\n",
       "Type                       0\n",
       "Air temperature [K]        0\n",
       "Process temperature [K]    0\n",
       "Rotational speed [rpm]     0\n",
       "Torque [Nm]                0\n",
       "Tool wear [min]            0\n",
       "Machine failure            0\n",
       "TWF                        0\n",
       "HDF                        0\n",
       "PWF                        0\n",
       "OSF                        0\n",
       "RNF                        0\n",
       "dtype: int64"
      ]
     },
     "execution_count": 4,
     "metadata": {},
     "output_type": "execute_result"
    }
   ],
   "source": [
    "df.isnull().sum()"
   ]
  },
  {
   "cell_type": "markdown",
   "id": "041ced00",
   "metadata": {},
   "source": [
    "* We do not have any missing values in our dataset¶"
   ]
  },
  {
   "cell_type": "code",
   "execution_count": 5,
   "id": "7afcb910",
   "metadata": {},
   "outputs": [
    {
     "data": {
      "text/plain": [
       "0"
      ]
     },
     "execution_count": 5,
     "metadata": {},
     "output_type": "execute_result"
    }
   ],
   "source": [
    "df.duplicated().sum()"
   ]
  },
  {
   "cell_type": "markdown",
   "id": "2cd96e5b",
   "metadata": {},
   "source": [
    "* No duplicate value is seen."
   ]
  },
  {
   "cell_type": "code",
   "execution_count": 6,
   "id": "2ed416a6",
   "metadata": {},
   "outputs": [
    {
     "data": {
      "text/plain": [
       "10000"
      ]
     },
     "execution_count": 6,
     "metadata": {},
     "output_type": "execute_result"
    }
   ],
   "source": [
    "len(df.UDI.unique())"
   ]
  },
  {
   "cell_type": "markdown",
   "id": "cbe7ad39",
   "metadata": {},
   "source": [
    "##### Let's have a look at unique values for each column"
   ]
  },
  {
   "cell_type": "code",
   "execution_count": 7,
   "id": "e4d0c0ff",
   "metadata": {},
   "outputs": [
    {
     "data": {
      "text/plain": [
       "UDI                        10000\n",
       "Product ID                 10000\n",
       "Type                           3\n",
       "Air temperature [K]           93\n",
       "Process temperature [K]       82\n",
       "Rotational speed [rpm]       941\n",
       "Torque [Nm]                  577\n",
       "Tool wear [min]              246\n",
       "Machine failure                2\n",
       "TWF                            2\n",
       "HDF                            2\n",
       "PWF                            2\n",
       "OSF                            2\n",
       "RNF                            2\n",
       "dtype: int64"
      ]
     },
     "execution_count": 7,
     "metadata": {},
     "output_type": "execute_result"
    }
   ],
   "source": [
    "df.apply(lambda c: len(c.unique()), axis = 0)"
   ]
  },
  {
   "cell_type": "markdown",
   "id": "70d0951b",
   "metadata": {},
   "source": [
    "* Conclusion : The columns UDI, Product ID, are unique for each observation, which means they won't have an impact on the performance.\n",
    "\n",
    "     Therefore, we will drope it."
   ]
  },
  {
   "cell_type": "code",
   "execution_count": 8,
   "id": "f6fc4310",
   "metadata": {},
   "outputs": [],
   "source": [
    "df.drop(['UDI', 'Product ID'], axis = 1, inplace = True)"
   ]
  },
  {
   "cell_type": "code",
   "execution_count": 9,
   "id": "d47b9e87",
   "metadata": {},
   "outputs": [
    {
     "name": "stdout",
     "output_type": "stream",
     "text": [
      "<class 'pandas.core.frame.DataFrame'>\n",
      "RangeIndex: 10000 entries, 0 to 9999\n",
      "Data columns (total 12 columns):\n",
      " #   Column                   Non-Null Count  Dtype  \n",
      "---  ------                   --------------  -----  \n",
      " 0   Type                     10000 non-null  object \n",
      " 1   Air temperature [K]      10000 non-null  float64\n",
      " 2   Process temperature [K]  10000 non-null  float64\n",
      " 3   Rotational speed [rpm]   10000 non-null  int64  \n",
      " 4   Torque [Nm]              10000 non-null  float64\n",
      " 5   Tool wear [min]          10000 non-null  int64  \n",
      " 6   Machine failure          10000 non-null  int64  \n",
      " 7   TWF                      10000 non-null  int64  \n",
      " 8   HDF                      10000 non-null  int64  \n",
      " 9   PWF                      10000 non-null  int64  \n",
      " 10  OSF                      10000 non-null  int64  \n",
      " 11  RNF                      10000 non-null  int64  \n",
      "dtypes: float64(3), int64(8), object(1)\n",
      "memory usage: 937.6+ KB\n"
     ]
    }
   ],
   "source": [
    "df.info()"
   ]
  },
  {
   "cell_type": "code",
   "execution_count": 10,
   "id": "fe080f4b",
   "metadata": {},
   "outputs": [
    {
     "data": {
      "text/plain": [
       "<AxesSubplot:xlabel='Type', ylabel='count'>"
      ]
     },
     "execution_count": 10,
     "metadata": {},
     "output_type": "execute_result"
    },
    {
     "data": {
      "image/png": "[encoded data removed]",
      "text/plain": [
       "<Figure size 640x480 with 1 Axes>"
      ]
     },
     "metadata": {},
     "output_type": "display_data"
    }
   ],
   "source": [
    "sns.countplot(data=df,x=df['Type'],palette='dark')"
   ]
  },
  {
   "cell_type": "markdown",
   "id": "12738bb2",
   "metadata": {},
   "source": [
    "* Data of Type feature is Categorical."
   ]
  },
  {
   "cell_type": "code",
   "execution_count": 11,
   "id": "1fa78634",
   "metadata": {},
   "outputs": [
    {
     "data": {
      "image/png": "[encoded data removed]",
      "text/plain": [
       "<Figure size 600x600 with 1 Axes>"
      ]
     },
     "metadata": {},
     "output_type": "display_data"
    }
   ],
   "source": [
    "plt.figure(figsize=(6,6))\n",
    "df['Machine failure'].value_counts().plot.pie(autopct='% 1.2f%%')\n",
    "plt.show()"
   ]
  },
  {
   "cell_type": "markdown",
   "id": "0d34f886",
   "metadata": {},
   "source": [
    " * Above graph shows data is Highly Imbalanced."
   ]
  },
  {
   "cell_type": "markdown",
   "id": "aa33692c",
   "metadata": {},
   "source": [
    "## Encoding:-\n",
    "    It convert categorical data of 'Type' column into Numerical values."
   ]
  },
  {
   "cell_type": "code",
   "execution_count": null,
   "id": "fba3fac6",
   "metadata": {},
   "outputs": [],
   "source": []
  },
  {
   "cell_type": "markdown",
   "id": "4955e045",
   "metadata": {},
   "source": [
    "### Balancing of Data by using Over Sampling and splitting of data into features and target."
   ]
  },
  {
   "cell_type": "code",
   "execution_count": 12,
   "id": "e5978b98",
   "metadata": {},
   "outputs": [],
   "source": [
    "x = df.drop(\"Machine failure\",axis=1)\n",
    "y = df[\"Machine failure\"]"
   ]
  },
  {
   "cell_type": "code",
   "execution_count": 13,
   "id": "36d3f8ee",
   "metadata": {},
   "outputs": [],
   "source": [
    "from sklearn.preprocessing import OrdinalEncoder\n",
    "from sklearn.compose import ColumnTransformer\n",
    "ct=ColumnTransformer([(\"oencoder\",OrdinalEncoder(),[\"Type\"])],remainder=\"passthrough\")\n",
    "x=ct.fit_transform(x)"
   ]
  },
  {
   "cell_type": "code",
   "execution_count": 14,
   "id": "2db32a32",
   "metadata": {},
   "outputs": [
    {
     "data": {
      "text/plain": [
       "((19322, 11), (19322,))"
      ]
     },
     "execution_count": 14,
     "metadata": {},
     "output_type": "execute_result"
    }
   ],
   "source": [
    "from imblearn.over_sampling import SMOTE\n",
    "sm =SMOTE(random_state=42)\n",
    "x,y = sm.fit_resample(x,y)\n",
    "x.shape,y.shape"
   ]
  },
  {
   "cell_type": "code",
   "execution_count": 17,
   "id": "d3a1afd0",
   "metadata": {},
   "outputs": [],
   "source": [
    "x=pd.DataFrame(x,columns=[df.drop(\"Machine failure\",axis=1).columns])"
   ]
  },
  {
   "cell_type": "code",
   "execution_count": 18,
   "id": "5b37c05f",
   "metadata": {},
   "outputs": [
    {
     "data": {
      "text/plain": [
       "<AxesSubplot:ylabel='Machine failure'>"
      ]
     },
     "execution_count": 18,
     "metadata": {},
     "output_type": "execute_result"
    },
    {
     "data": {
      "image/png": "[encoded data removed]",
      "text/plain": [
       "<Figure size 600x600 with 1 Axes>"
      ]
     },
     "metadata": {},
     "output_type": "display_data"
    }
   ],
   "source": [
    "plt.figure(figsize=(6,6))\n",
    "y.value_counts().plot.pie(autopct='% 1.2f%%',explode=(0,0))"
   ]
  },
  {
   "cell_type": "markdown",
   "id": "81107bd6",
   "metadata": {},
   "source": [
    "* Now By seeing above graph we says that Dataset is Balanced"
   ]
  },
  {
   "cell_type": "markdown",
   "id": "9e754672",
   "metadata": {},
   "source": [
    "### Feature Scaling"
   ]
  },
  {
   "cell_type": "code",
   "execution_count": 19,
   "id": "8ae55456",
   "metadata": {},
   "outputs": [
    {
     "data": {
      "text/html": [
       "<div>\n",
       "<style scoped>\n",
       "    .dataframe tbody tr th:only-of-type {\n",
       "        vertical-align: middle;\n",
       "    }\n",
       "\n",
       "    .dataframe tbody tr th {\n",
       "        vertical-align: top;\n",
       "    }\n",
       "\n",
       "    .dataframe thead tr th {\n",
       "        text-align: left;\n",
       "    }\n",
       "</style>\n",
       "<table border=\"1\" class=\"dataframe\">\n",
       "  <thead>\n",
       "    <tr>\n",
       "      <th></th>\n",
       "      <th>Type</th>\n",
       "      <th>Air temperature [K]</th>\n",
       "      <th>Process temperature [K]</th>\n",
       "      <th>Rotational speed [rpm]</th>\n",
       "      <th>Torque [Nm]</th>\n",
       "      <th>Tool wear [min]</th>\n",
       "      <th>TWF</th>\n",
       "      <th>HDF</th>\n",
       "      <th>PWF</th>\n",
       "      <th>OSF</th>\n",
       "      <th>RNF</th>\n",
       "    </tr>\n",
       "  </thead>\n",
       "  <tbody>\n",
       "    <tr>\n",
       "      <th>0</th>\n",
       "      <td>1.545592</td>\n",
       "      <td>-1.208000</td>\n",
       "      <td>-1.172563</td>\n",
       "      <td>0.118549</td>\n",
       "      <td>-0.150854</td>\n",
       "      <td>-1.793867</td>\n",
       "      <td>-0.286868</td>\n",
       "      <td>-0.490911</td>\n",
       "      <td>-0.414187</td>\n",
       "      <td>-0.432451</td>\n",
       "      <td>-0.054326</td>\n",
       "    </tr>\n",
       "    <tr>\n",
       "      <th>1</th>\n",
       "      <td>-0.356136</td>\n",
       "      <td>-1.156732</td>\n",
       "      <td>-1.097171</td>\n",
       "      <td>-0.369575</td>\n",
       "      <td>0.098054</td>\n",
       "      <td>-1.750887</td>\n",
       "      <td>-0.286868</td>\n",
       "      <td>-0.490911</td>\n",
       "      <td>-0.414187</td>\n",
       "      <td>-0.432451</td>\n",
       "      <td>-0.054326</td>\n",
       "    </tr>\n",
       "    <tr>\n",
       "      <th>2</th>\n",
       "      <td>-0.356136</td>\n",
       "      <td>-1.208000</td>\n",
       "      <td>-1.247954</td>\n",
       "      <td>-0.062364</td>\n",
       "      <td>0.318514</td>\n",
       "      <td>-1.722233</td>\n",
       "      <td>-0.286868</td>\n",
       "      <td>-0.490911</td>\n",
       "      <td>-0.414187</td>\n",
       "      <td>-0.432451</td>\n",
       "      <td>-0.054326</td>\n",
       "    </tr>\n",
       "    <tr>\n",
       "      <th>3</th>\n",
       "      <td>-0.356136</td>\n",
       "      <td>-1.156732</td>\n",
       "      <td>-1.172563</td>\n",
       "      <td>-0.284238</td>\n",
       "      <td>-0.385538</td>\n",
       "      <td>-1.693580</td>\n",
       "      <td>-0.286868</td>\n",
       "      <td>-0.490911</td>\n",
       "      <td>-0.414187</td>\n",
       "      <td>-0.432451</td>\n",
       "      <td>-0.054326</td>\n",
       "    </tr>\n",
       "    <tr>\n",
       "      <th>4</th>\n",
       "      <td>-0.356136</td>\n",
       "      <td>-1.156732</td>\n",
       "      <td>-1.097171</td>\n",
       "      <td>-0.369575</td>\n",
       "      <td>-0.349980</td>\n",
       "      <td>-1.664926</td>\n",
       "      <td>-0.286868</td>\n",
       "      <td>-0.490911</td>\n",
       "      <td>-0.414187</td>\n",
       "      <td>-0.432451</td>\n",
       "      <td>-0.054326</td>\n",
       "    </tr>\n",
       "  </tbody>\n",
       "</table>\n",
       "</div>"
      ],
      "text/plain": [
       "       Type Air temperature [K] Process temperature [K]  \\\n",
       "0  1.545592           -1.208000               -1.172563   \n",
       "1 -0.356136           -1.156732               -1.097171   \n",
       "2 -0.356136           -1.208000               -1.247954   \n",
       "3 -0.356136           -1.156732               -1.172563   \n",
       "4 -0.356136           -1.156732               -1.097171   \n",
       "\n",
       "  Rotational speed [rpm] Torque [Nm] Tool wear [min]       TWF       HDF  \\\n",
       "0               0.118549   -0.150854       -1.793867 -0.286868 -0.490911   \n",
       "1              -0.369575    0.098054       -1.750887 -0.286868 -0.490911   \n",
       "2              -0.062364    0.318514       -1.722233 -0.286868 -0.490911   \n",
       "3              -0.284238   -0.385538       -1.693580 -0.286868 -0.490911   \n",
       "4              -0.369575   -0.349980       -1.664926 -0.286868 -0.490911   \n",
       "\n",
       "        PWF       OSF       RNF  \n",
       "0 -0.414187 -0.432451 -0.054326  \n",
       "1 -0.414187 -0.432451 -0.054326  \n",
       "2 -0.414187 -0.432451 -0.054326  \n",
       "3 -0.414187 -0.432451 -0.054326  \n",
       "4 -0.414187 -0.432451 -0.054326  "
      ]
     },
     "execution_count": 19,
     "metadata": {},
     "output_type": "execute_result"
    }
   ],
   "source": [
    "from sklearn.preprocessing import StandardScaler\n",
    "sc =StandardScaler()\n",
    "x.iloc[:,:] = sc.fit_transform(x.iloc[:,:])\n",
    "x.head()"
   ]
  },
  {
   "cell_type": "markdown",
   "id": "db26c932",
   "metadata": {},
   "source": [
    "### Splitting of Data into train & test"
   ]
  },
  {
   "cell_type": "code",
   "execution_count": 20,
   "id": "6470ff1b",
   "metadata": {},
   "outputs": [],
   "source": [
    "from sklearn.model_selection import train_test_split\n",
    "xtrain, xtest, ytrain, ytest = train_test_split(x,y,test_size=0.30,random_state=0)"
   ]
  },
  {
   "cell_type": "code",
   "execution_count": 21,
   "id": "6ef4bb60",
   "metadata": {},
   "outputs": [
    {
     "data": {
      "text/plain": [
       "(13525, 11)"
      ]
     },
     "execution_count": 21,
     "metadata": {},
     "output_type": "execute_result"
    }
   ],
   "source": [
    "xtrain.shape"
   ]
  },
  {
   "cell_type": "code",
   "execution_count": 22,
   "id": "badd0c39",
   "metadata": {},
   "outputs": [
    {
     "data": {
      "text/plain": [
       "(5797, 11)"
      ]
     },
     "execution_count": 22,
     "metadata": {},
     "output_type": "execute_result"
    }
   ],
   "source": [
    "xtest.shape"
   ]
  },
  {
   "cell_type": "code",
   "execution_count": 23,
   "id": "cdb56d19",
   "metadata": {},
   "outputs": [
    {
     "data": {
      "text/plain": [
       "(13525,)"
      ]
     },
     "execution_count": 23,
     "metadata": {},
     "output_type": "execute_result"
    }
   ],
   "source": [
    "ytrain.shape"
   ]
  },
  {
   "cell_type": "code",
   "execution_count": 24,
   "id": "b39b92ca",
   "metadata": {},
   "outputs": [
    {
     "data": {
      "text/plain": [
       "(5797, 11)"
      ]
     },
     "execution_count": 24,
     "metadata": {},
     "output_type": "execute_result"
    }
   ],
   "source": [
    "xtest.shape"
   ]
  },
  {
   "cell_type": "markdown",
   "id": "b22d91eb",
   "metadata": {},
   "source": [
    "## Model Building"
   ]
  },
  {
   "cell_type": "code",
   "execution_count": 25,
   "id": "f7f92deb",
   "metadata": {},
   "outputs": [],
   "source": [
    "from sklearn.linear_model import LogisticRegression\n",
    "from sklearn.neighbors import KNeighborsClassifier\n",
    "from sklearn.svm import SVC\n",
    "from sklearn.tree import DecisionTreeClassifier\n",
    "from sklearn import tree\n",
    "from sklearn.metrics import classification_report,accuracy_score"
   ]
  },
  {
   "cell_type": "code",
   "execution_count": 26,
   "id": "1b9c6123",
   "metadata": {},
   "outputs": [],
   "source": [
    "logreg=LogisticRegression()\n",
    "knn=KNeighborsClassifier()\n",
    "svm=SVC()\n",
    "dt=DecisionTreeClassifier()"
   ]
  },
  {
   "cell_type": "code",
   "execution_count": 27,
   "id": "ba5a4ced",
   "metadata": {},
   "outputs": [],
   "source": [
    "def mymodel(model):\n",
    "    model.fit(xtrain,ytrain) # build model\n",
    "    ypred = model.predict(xtest) #predicted value of y\n",
    "    train = model.score(xtrain,ytrain)\n",
    "    test = model.score(xtest,ytest)\n",
    "    print(f'training accuracy {train}')\n",
    "    print(f'testing accuracy {test}')\n",
    "    print(f'Model Name : {model}')\n",
    "    print(classification_report(ytest,ypred))"
   ]
  },
  {
   "cell_type": "code",
   "execution_count": 28,
   "id": "8d7eb8e1",
   "metadata": {},
   "outputs": [
    {
     "name": "stdout",
     "output_type": "stream",
     "text": [
      "training accuracy 0.9941589648798521\n",
      "testing accuracy 0.9927548732102812\n",
      "Model Name : LogisticRegression()\n",
      "              precision    recall  f1-score   support\n",
      "\n",
      "           0       0.99      1.00      0.99      2902\n",
      "           1       1.00      0.99      0.99      2895\n",
      "\n",
      "    accuracy                           0.99      5797\n",
      "   macro avg       0.99      0.99      0.99      5797\n",
      "weighted avg       0.99      0.99      0.99      5797\n",
      "\n"
     ]
    }
   ],
   "source": [
    "mymodel(logreg)"
   ]
  },
  {
   "cell_type": "code",
   "execution_count": 29,
   "id": "ce86d31b",
   "metadata": {},
   "outputs": [
    {
     "name": "stdout",
     "output_type": "stream",
     "text": [
      "training accuracy 0.9984473197781886\n",
      "testing accuracy 0.9972399516991547\n",
      "Model Name : KNeighborsClassifier()\n",
      "              precision    recall  f1-score   support\n",
      "\n",
      "           0       1.00      1.00      1.00      2902\n",
      "           1       1.00      1.00      1.00      2895\n",
      "\n",
      "    accuracy                           1.00      5797\n",
      "   macro avg       1.00      1.00      1.00      5797\n",
      "weighted avg       1.00      1.00      1.00      5797\n",
      "\n"
     ]
    }
   ],
   "source": [
    "mymodel(knn)"
   ]
  },
  {
   "cell_type": "code",
   "execution_count": 30,
   "id": "a22cccc4",
   "metadata": {},
   "outputs": [
    {
     "name": "stdout",
     "output_type": "stream",
     "text": [
      "training accuracy 1.0\n",
      "testing accuracy 0.997929963774366\n",
      "Model Name : DecisionTreeClassifier()\n",
      "              precision    recall  f1-score   support\n",
      "\n",
      "           0       1.00      1.00      1.00      2902\n",
      "           1       1.00      1.00      1.00      2895\n",
      "\n",
      "    accuracy                           1.00      5797\n",
      "   macro avg       1.00      1.00      1.00      5797\n",
      "weighted avg       1.00      1.00      1.00      5797\n",
      "\n"
     ]
    }
   ],
   "source": [
    "mymodel(dt)"
   ]
  },
  {
   "cell_type": "code",
   "execution_count": 31,
   "id": "43bf339f",
   "metadata": {},
   "outputs": [
    {
     "name": "stdout",
     "output_type": "stream",
     "text": [
      "training accuracy 0.9949722735674676\n",
      "testing accuracy 0.9930998792478868\n",
      "Model Name : SVC()\n",
      "              precision    recall  f1-score   support\n",
      "\n",
      "           0       0.99      1.00      0.99      2902\n",
      "           1       1.00      0.99      0.99      2895\n",
      "\n",
      "    accuracy                           0.99      5797\n",
      "   macro avg       0.99      0.99      0.99      5797\n",
      "weighted avg       0.99      0.99      0.99      5797\n",
      "\n"
     ]
    }
   ],
   "source": [
    "mymodel(svm)"
   ]
  },
  {
   "cell_type": "markdown",
   "id": "e1d4cd35",
   "metadata": {},
   "source": [
    "## Bagging Classifier"
   ]
  },
  {
   "cell_type": "code",
   "execution_count": 32,
   "id": "04fd10a1",
   "metadata": {},
   "outputs": [
    {
     "name": "stdout",
     "output_type": "stream",
     "text": [
      "training accuracy 0.9999260628465804\n",
      "testing accuracy 0.9981024667931688\n",
      "DecisionTreeClassifier()\n",
      "              precision    recall  f1-score   support\n",
      "\n",
      "           0       1.00      1.00      1.00      2902\n",
      "           1       1.00      1.00      1.00      2895\n",
      "\n",
      "    accuracy                           1.00      5797\n",
      "   macro avg       1.00      1.00      1.00      5797\n",
      "weighted avg       1.00      1.00      1.00      5797\n",
      "\n"
     ]
    }
   ],
   "source": [
    "from sklearn.ensemble import BaggingClassifier\n",
    "bg = BaggingClassifier(dt)\n",
    "bg.fit(xtrain,ytrain)\n",
    "ypred = bg.predict(xtest)\n",
    "cr = classification_report(ytest,ypred)\n",
    "train = bg.score(xtrain,ytrain)\n",
    "test = bg.score(xtest,ytest)\n",
    "print(f'training accuracy {train}')\n",
    "print(f'testing accuracy {test}')\n",
    "print(dt)\n",
    "print(cr)"
   ]
  },
  {
   "cell_type": "markdown",
   "id": "3ef3c3f2",
   "metadata": {},
   "source": [
    "## Random Forest"
   ]
  },
  {
   "cell_type": "code",
   "execution_count": 33,
   "id": "66f0619a",
   "metadata": {},
   "outputs": [
    {
     "name": "stdout",
     "output_type": "stream",
     "text": [
      "training accuracy 1.0\n",
      "testing accuracy 0.9984474728307745\n",
      "              precision    recall  f1-score   support\n",
      "\n",
      "           0       1.00      1.00      1.00      2902\n",
      "           1       1.00      1.00      1.00      2895\n",
      "\n",
      "    accuracy                           1.00      5797\n",
      "   macro avg       1.00      1.00      1.00      5797\n",
      "weighted avg       1.00      1.00      1.00      5797\n",
      "\n"
     ]
    }
   ],
   "source": [
    "from sklearn.ensemble import RandomForestClassifier\n",
    "rf = RandomForestClassifier()\n",
    "rf.fit(xtrain,ytrain)\n",
    "ypred = rf.predict(xtest)\n",
    "cr = classification_report(ytest,ypred)\n",
    "train = rf.score(xtrain,ytrain)\n",
    "test = rf.score(xtest,ytest)\n",
    "print(f'training accuracy {train}')\n",
    "print(f'testing accuracy {test}')\n",
    "print(cr)"
   ]
  },
  {
   "cell_type": "markdown",
   "id": "9574feae",
   "metadata": {},
   "source": [
    "## Voting Classifier"
   ]
  },
  {
   "cell_type": "code",
   "execution_count": 34,
   "id": "9583de9c",
   "metadata": {},
   "outputs": [],
   "source": [
    "models=[]\n",
    "models.append(('logistic regression',logreg))\n",
    "models.append(('KNN',knn))\n",
    "models.append(('Support vector machine',svm))\n",
    "models.append(('Decision Tree',dt))"
   ]
  },
  {
   "cell_type": "code",
   "execution_count": 35,
   "id": "5a4251b3",
   "metadata": {},
   "outputs": [
    {
     "name": "stdout",
     "output_type": "stream",
     "text": [
      "training accuracy 0.9949722735674676\n",
      "testing accuracy 0.9930998792478868\n",
      "              precision    recall  f1-score   support\n",
      "\n",
      "           0       0.99      1.00      0.99      2902\n",
      "           1       1.00      0.99      0.99      2895\n",
      "\n",
      "    accuracy                           0.99      5797\n",
      "   macro avg       0.99      0.99      0.99      5797\n",
      "weighted avg       0.99      0.99      0.99      5797\n",
      "\n"
     ]
    }
   ],
   "source": [
    "from sklearn.ensemble import VotingClassifier\n",
    "vc = VotingClassifier(estimators=models)\n",
    "vc.fit(xtrain,ytrain)\n",
    "ypred = vc.predict(xtest)\n",
    "cr = classification_report(ytest,ypred)\n",
    "train = vc.score(xtrain,ytrain)\n",
    "test = vc.score(xtest,ytest)\n",
    "print(f'training accuracy {train}')\n",
    "print(f'testing accuracy {test}')\n",
    "print(cr)"
   ]
  },
  {
   "cell_type": "markdown",
   "id": "7f0f687d",
   "metadata": {},
   "source": [
    "## Boosting"
   ]
  },
  {
   "cell_type": "markdown",
   "id": "e8a392a1",
   "metadata": {},
   "source": [
    "### 1.Adaptive Boosting"
   ]
  },
  {
   "cell_type": "code",
   "execution_count": 36,
   "id": "27454271",
   "metadata": {},
   "outputs": [
    {
     "name": "stdout",
     "output_type": "stream",
     "text": [
      "training accuracy 0.9998521256931608\n",
      "testing accuracy 0.9989649818871831\n",
      "              precision    recall  f1-score   support\n",
      "\n",
      "           0       1.00      1.00      1.00      2902\n",
      "           1       1.00      1.00      1.00      2895\n",
      "\n",
      "    accuracy                           1.00      5797\n",
      "   macro avg       1.00      1.00      1.00      5797\n",
      "weighted avg       1.00      1.00      1.00      5797\n",
      "\n"
     ]
    }
   ],
   "source": [
    "from sklearn.ensemble import AdaBoostClassifier\n",
    "ad = AdaBoostClassifier()\n",
    "ad.fit(xtrain,ytrain)\n",
    "ypred = ad.predict(xtest)\n",
    "cr = classification_report(ytest,ypred)\n",
    "train = ad.score(xtrain,ytrain)\n",
    "test = ad.score(xtest,ytest)\n",
    "print(f'training accuracy {train}')\n",
    "print(f'testing accuracy {test}')\n",
    "print(cr)"
   ]
  },
  {
   "cell_type": "markdown",
   "id": "4faaa575",
   "metadata": {},
   "source": [
    "### 2.Gradient Boosting"
   ]
  },
  {
   "cell_type": "code",
   "execution_count": 37,
   "id": "4090f0a1",
   "metadata": {},
   "outputs": [
    {
     "name": "stdout",
     "output_type": "stream",
     "text": [
      "training accuracy 0.9989648798521257\n",
      "testing accuracy 0.9981024667931688\n",
      "              precision    recall  f1-score   support\n",
      "\n",
      "           0       1.00      1.00      1.00      2902\n",
      "           1       1.00      1.00      1.00      2895\n",
      "\n",
      "    accuracy                           1.00      5797\n",
      "   macro avg       1.00      1.00      1.00      5797\n",
      "weighted avg       1.00      1.00      1.00      5797\n",
      "\n"
     ]
    }
   ],
   "source": [
    "from sklearn.ensemble import GradientBoostingClassifier\n",
    "gb = GradientBoostingClassifier()\n",
    "gb.fit(xtrain,ytrain)\n",
    "ypred = gb.predict(xtest)\n",
    "cr = classification_report(ytest,ypred)\n",
    "train = gb.score(xtrain,ytrain)\n",
    "test = gb.score(xtest,ytest)\n",
    "print(f'training accuracy {train}')\n",
    "print(f'testing accuracy {test}')\n",
    "print(cr)"
   ]
  },
  {
   "cell_type": "markdown",
   "id": "b86ed1b8",
   "metadata": {},
   "source": [
    "### 3. Extreme Gradient Boost"
   ]
  },
  {
   "cell_type": "code",
   "execution_count": 38,
   "id": "0dd719d9",
   "metadata": {},
   "outputs": [],
   "source": [
    "#from xgboost import XGBClassifier\n",
    "#xg=XGBClassifier()\n",
    "# = classification_report(ytest,ypred)\n",
    "#train = xg.score(xtrain,ytrain)\n",
    "#test = xg.score(xtest,ytest)\n",
    "#print(f'training accuracy {train}')\n",
    "#print(f'testing accuracy {test}')\n",
    "#print(cr)"
   ]
  },
  {
   "cell_type": "markdown",
   "id": "c71a991d",
   "metadata": {},
   "source": [
    "### Hyper parameter Tunning"
   ]
  },
  {
   "cell_type": "code",
   "execution_count": 39,
   "id": "c75c9ec3",
   "metadata": {},
   "outputs": [
    {
     "name": "stdout",
     "output_type": "stream",
     "text": [
      "              precision    recall  f1-score   support\n",
      "\n",
      "           0       1.00      1.00      1.00      2902\n",
      "           1       1.00      1.00      1.00      2895\n",
      "\n",
      "    accuracy                           1.00      5797\n",
      "   macro avg       1.00      1.00      1.00      5797\n",
      "weighted avg       1.00      1.00      1.00      5797\n",
      "\n"
     ]
    }
   ],
   "source": [
    "from sklearn.model_selection import GridSearchCV\n",
    "gbc = GradientBoostingClassifier()\n",
    "parameters = {\n",
    "    \"n_estimators\":[5,50,250,500],\n",
    "    \"max_depth\":[1,3,5,7,9],\n",
    "    \"learning_rate\":[0.01,0.1,1,10,100]}\n",
    "cv = GridSearchCV(gbc,parameters,cv=5)\n",
    "cv.fit(xtrain,ytrain)\n",
    "ypred = cv.predict(xtest)\n",
    "cr = classification_report(ytest,ypred)\n",
    "print(cr)"
   ]
  },
  {
   "cell_type": "code",
   "execution_count": 40,
   "id": "522f1b0b",
   "metadata": {},
   "outputs": [],
   "source": [
    "accuracy = cv.best_score_"
   ]
  },
  {
   "cell_type": "code",
   "execution_count": 41,
   "id": "8c2a684e",
   "metadata": {},
   "outputs": [
    {
     "data": {
      "text/plain": [
       "0.9991866913123845"
      ]
     },
     "execution_count": 41,
     "metadata": {},
     "output_type": "execute_result"
    }
   ],
   "source": [
    "accuracy"
   ]
  },
  {
   "cell_type": "code",
   "execution_count": 42,
   "id": "8ad525d9",
   "metadata": {},
   "outputs": [
    {
     "data": {
      "text/plain": [
       "{'learning_rate': 0.1, 'max_depth': 5, 'n_estimators': 250}"
      ]
     },
     "execution_count": 42,
     "metadata": {},
     "output_type": "execute_result"
    }
   ],
   "source": [
    "cv.best_params_"
   ]
  },
  {
   "cell_type": "code",
   "execution_count": 43,
   "id": "6b8589bb",
   "metadata": {},
   "outputs": [
    {
     "data": {
      "text/plain": [
       "Index(['Type', 'Air temperature [K]', 'Process temperature [K]',\n",
       "       'Rotational speed [rpm]', 'Torque [Nm]', 'Tool wear [min]',\n",
       "       'Machine failure', 'TWF', 'HDF', 'PWF', 'OSF', 'RNF'],\n",
       "      dtype='object')"
      ]
     },
     "execution_count": 43,
     "metadata": {},
     "output_type": "execute_result"
    }
   ],
   "source": [
    "df.columns"
   ]
  },
  {
   "cell_type": "markdown",
   "id": "4cbde439",
   "metadata": {},
   "source": [
    "### Predicting New Observations:"
   ]
  },
  {
   "cell_type": "code",
   "execution_count": 45,
   "id": "f6c909c8",
   "metadata": {},
   "outputs": [],
   "source": [
    "import pickle"
   ]
  },
  {
   "cell_type": "code",
   "execution_count": 47,
   "id": "ae6336ca",
   "metadata": {},
   "outputs": [],
   "source": [
    "pickle.dump(ct,open(\"coltransformer.pkl\",\"wb\"))\n",
    "pickle.dump(sc,open(\"sc.pkl\",\"wb\"))\n",
    "pickle.dump(gb,open(\"gb.pkl\",\"wb\"))"
   ]
  },
  {
   "cell_type": "code",
   "execution_count": 50,
   "id": "30e29322",
   "metadata": {},
   "outputs": [
    {
     "data": {
      "text/html": [
       "<div>\n",
       "<style scoped>\n",
       "    .dataframe tbody tr th:only-of-type {\n",
       "        vertical-align: middle;\n",
       "    }\n",
       "\n",
       "    .dataframe tbody tr th {\n",
       "        vertical-align: top;\n",
       "    }\n",
       "\n",
       "    .dataframe thead th {\n",
       "        text-align: right;\n",
       "    }\n",
       "</style>\n",
       "<table border=\"1\" class=\"dataframe\">\n",
       "  <thead>\n",
       "    <tr style=\"text-align: right;\">\n",
       "      <th></th>\n",
       "      <th>Type</th>\n",
       "      <th>Air temperature [K]</th>\n",
       "      <th>Process temperature [K]</th>\n",
       "      <th>Rotational speed [rpm]</th>\n",
       "      <th>Torque [Nm]</th>\n",
       "      <th>Tool wear [min]</th>\n",
       "      <th>Machine failure</th>\n",
       "      <th>TWF</th>\n",
       "      <th>HDF</th>\n",
       "      <th>PWF</th>\n",
       "      <th>OSF</th>\n",
       "      <th>RNF</th>\n",
       "    </tr>\n",
       "  </thead>\n",
       "  <tbody>\n",
       "    <tr>\n",
       "      <th>50</th>\n",
       "      <td>L</td>\n",
       "      <td>298.9</td>\n",
       "      <td>309.1</td>\n",
       "      <td>2861</td>\n",
       "      <td>4.6</td>\n",
       "      <td>143</td>\n",
       "      <td>1</td>\n",
       "      <td>0</td>\n",
       "      <td>0</td>\n",
       "      <td>1</td>\n",
       "      <td>0</td>\n",
       "      <td>0</td>\n",
       "    </tr>\n",
       "    <tr>\n",
       "      <th>69</th>\n",
       "      <td>L</td>\n",
       "      <td>298.9</td>\n",
       "      <td>309.0</td>\n",
       "      <td>1410</td>\n",
       "      <td>65.7</td>\n",
       "      <td>191</td>\n",
       "      <td>1</td>\n",
       "      <td>0</td>\n",
       "      <td>0</td>\n",
       "      <td>1</td>\n",
       "      <td>1</td>\n",
       "      <td>0</td>\n",
       "    </tr>\n",
       "    <tr>\n",
       "      <th>77</th>\n",
       "      <td>L</td>\n",
       "      <td>298.8</td>\n",
       "      <td>308.9</td>\n",
       "      <td>1455</td>\n",
       "      <td>41.3</td>\n",
       "      <td>208</td>\n",
       "      <td>1</td>\n",
       "      <td>1</td>\n",
       "      <td>0</td>\n",
       "      <td>0</td>\n",
       "      <td>0</td>\n",
       "      <td>0</td>\n",
       "    </tr>\n",
       "    <tr>\n",
       "      <th>160</th>\n",
       "      <td>L</td>\n",
       "      <td>298.4</td>\n",
       "      <td>308.2</td>\n",
       "      <td>1282</td>\n",
       "      <td>60.7</td>\n",
       "      <td>216</td>\n",
       "      <td>1</td>\n",
       "      <td>0</td>\n",
       "      <td>0</td>\n",
       "      <td>0</td>\n",
       "      <td>1</td>\n",
       "      <td>0</td>\n",
       "    </tr>\n",
       "    <tr>\n",
       "      <th>161</th>\n",
       "      <td>L</td>\n",
       "      <td>298.3</td>\n",
       "      <td>308.1</td>\n",
       "      <td>1412</td>\n",
       "      <td>52.3</td>\n",
       "      <td>218</td>\n",
       "      <td>1</td>\n",
       "      <td>0</td>\n",
       "      <td>0</td>\n",
       "      <td>0</td>\n",
       "      <td>1</td>\n",
       "      <td>0</td>\n",
       "    </tr>\n",
       "    <tr>\n",
       "      <th>...</th>\n",
       "      <td>...</td>\n",
       "      <td>...</td>\n",
       "      <td>...</td>\n",
       "      <td>...</td>\n",
       "      <td>...</td>\n",
       "      <td>...</td>\n",
       "      <td>...</td>\n",
       "      <td>...</td>\n",
       "      <td>...</td>\n",
       "      <td>...</td>\n",
       "      <td>...</td>\n",
       "      <td>...</td>\n",
       "    </tr>\n",
       "    <tr>\n",
       "      <th>9758</th>\n",
       "      <td>L</td>\n",
       "      <td>298.6</td>\n",
       "      <td>309.8</td>\n",
       "      <td>2271</td>\n",
       "      <td>16.2</td>\n",
       "      <td>218</td>\n",
       "      <td>1</td>\n",
       "      <td>1</td>\n",
       "      <td>0</td>\n",
       "      <td>0</td>\n",
       "      <td>0</td>\n",
       "      <td>0</td>\n",
       "    </tr>\n",
       "    <tr>\n",
       "      <th>9764</th>\n",
       "      <td>L</td>\n",
       "      <td>298.5</td>\n",
       "      <td>309.5</td>\n",
       "      <td>1294</td>\n",
       "      <td>66.7</td>\n",
       "      <td>12</td>\n",
       "      <td>1</td>\n",
       "      <td>0</td>\n",
       "      <td>0</td>\n",
       "      <td>1</td>\n",
       "      <td>0</td>\n",
       "      <td>0</td>\n",
       "    </tr>\n",
       "    <tr>\n",
       "      <th>9822</th>\n",
       "      <td>L</td>\n",
       "      <td>298.5</td>\n",
       "      <td>309.4</td>\n",
       "      <td>1360</td>\n",
       "      <td>60.9</td>\n",
       "      <td>187</td>\n",
       "      <td>1</td>\n",
       "      <td>0</td>\n",
       "      <td>0</td>\n",
       "      <td>0</td>\n",
       "      <td>1</td>\n",
       "      <td>0</td>\n",
       "    </tr>\n",
       "    <tr>\n",
       "      <th>9830</th>\n",
       "      <td>L</td>\n",
       "      <td>298.3</td>\n",
       "      <td>309.3</td>\n",
       "      <td>1337</td>\n",
       "      <td>56.1</td>\n",
       "      <td>206</td>\n",
       "      <td>1</td>\n",
       "      <td>0</td>\n",
       "      <td>0</td>\n",
       "      <td>0</td>\n",
       "      <td>1</td>\n",
       "      <td>0</td>\n",
       "    </tr>\n",
       "    <tr>\n",
       "      <th>9974</th>\n",
       "      <td>L</td>\n",
       "      <td>298.6</td>\n",
       "      <td>308.2</td>\n",
       "      <td>1361</td>\n",
       "      <td>68.2</td>\n",
       "      <td>172</td>\n",
       "      <td>1</td>\n",
       "      <td>0</td>\n",
       "      <td>0</td>\n",
       "      <td>1</td>\n",
       "      <td>1</td>\n",
       "      <td>0</td>\n",
       "    </tr>\n",
       "  </tbody>\n",
       "</table>\n",
       "<p>339 rows × 12 columns</p>\n",
       "</div>"
      ],
      "text/plain": [
       "     Type  Air temperature [K]  Process temperature [K]  \\\n",
       "50      L                298.9                    309.1   \n",
       "69      L                298.9                    309.0   \n",
       "77      L                298.8                    308.9   \n",
       "160     L                298.4                    308.2   \n",
       "161     L                298.3                    308.1   \n",
       "...   ...                  ...                      ...   \n",
       "9758    L                298.6                    309.8   \n",
       "9764    L                298.5                    309.5   \n",
       "9822    L                298.5                    309.4   \n",
       "9830    L                298.3                    309.3   \n",
       "9974    L                298.6                    308.2   \n",
       "\n",
       "      Rotational speed [rpm]  Torque [Nm]  Tool wear [min]  Machine failure  \\\n",
       "50                      2861          4.6              143                1   \n",
       "69                      1410         65.7              191                1   \n",
       "77                      1455         41.3              208                1   \n",
       "160                     1282         60.7              216                1   \n",
       "161                     1412         52.3              218                1   \n",
       "...                      ...          ...              ...              ...   \n",
       "9758                    2271         16.2              218                1   \n",
       "9764                    1294         66.7               12                1   \n",
       "9822                    1360         60.9              187                1   \n",
       "9830                    1337         56.1              206                1   \n",
       "9974                    1361         68.2              172                1   \n",
       "\n",
       "      TWF  HDF  PWF  OSF  RNF  \n",
       "50      0    0    1    0    0  \n",
       "69      0    0    1    1    0  \n",
       "77      1    0    0    0    0  \n",
       "160     0    0    0    1    0  \n",
       "161     0    0    0    1    0  \n",
       "...   ...  ...  ...  ...  ...  \n",
       "9758    1    0    0    0    0  \n",
       "9764    0    0    1    0    0  \n",
       "9822    0    0    0    1    0  \n",
       "9830    0    0    0    1    0  \n",
       "9974    0    0    1    1    0  \n",
       "\n",
       "[339 rows x 12 columns]"
      ]
     },
     "execution_count": 50,
     "metadata": {},
     "output_type": "execute_result"
    }
   ],
   "source": [
    "df[df[\"Machine failure\"]==1]"
   ]
  },
  {
   "cell_type": "code",
   "execution_count": null,
   "id": "dedf8980",
   "metadata": {},
   "outputs": [],
   "source": []
  }
 ],
 "metadata": {
  "kernelspec": {
   "display_name": "Python 3 (ipykernel)",
   "language": "python",
   "name": "python3"
  },
  "language_info": {
   "codemirror_mode": {
    "name": "ipython",
    "version": 3
   },
   "file_extension": ".py",
   "mimetype": "text/x-python",
   "name": "python",
   "nbconvert_exporter": "python",
   "pygments_lexer": "ipython3",
   "version": "3.10.6"
  }
 },
 "nbformat": 4,
 "nbformat_minor": 5
}
